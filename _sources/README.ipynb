{
 "cells": [
  {
   "cell_type": "markdown",
   "id": "967718b1",
   "metadata": {},
   "source": [
    "# geosp\n",
    "Free and Open Source Geospatial Solutions\n",
    "See the book at https://vrconservation.github.io/geosp/"
   ]
  }
 ],
 "metadata": {
  "jupytext": {
   "cell_metadata_filter": "-all",
   "main_language": "python",
   "notebook_metadata_filter": "-all"
  }
 },
 "nbformat": 4,
 "nbformat_minor": 5
}
