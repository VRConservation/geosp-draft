{
 "cells": [
  {
   "cell_type": "markdown",
   "id": "5410449f",
   "metadata": {},
   "source": [
    "# FOSS\n",
    "Free and open source software\n",
    "\n",
    "Is it really either/or to analyze and visualize geospatial data?\n",
    "See this repo for a curated list of GEE resources: https://github.com/opengeos/Awesome-GEE?tab=readme-ov-file#r\n",
    "\n",
    "You do a little more research and start to uncover no-code solutions to geospatial analysis.  \n",
    "## Free vs No Code\n",
    "Not really either/or\n",
    "\n",
    "Break up sections into numbered paragraphs rather than long paragraphs\n",
    "\n",
    "## Participatory\n",
    "PRA and RRA\n",
    "\n",
    "Diversity Equity\n",
    "\n",
    "Participation and videos from Arc government conference"
   ]
  }
 ],
 "metadata": {
  "jupytext": {
   "cell_metadata_filter": "-all",
   "formats": "ipynb,md"
  },
  "kernelspec": {
   "display_name": "Python 3 (ipykernel)",
   "language": "python",
   "name": "python3"
  },
  "language_info": {
   "codemirror_mode": {
    "name": "ipython",
    "version": 3
   },
   "file_extension": ".py",
   "mimetype": "text/x-python",
   "name": "python",
   "nbconvert_exporter": "python",
   "pygments_lexer": "ipython3",
   "version": "3.11.8"
  }
 },
 "nbformat": 4,
 "nbformat_minor": 5
}
