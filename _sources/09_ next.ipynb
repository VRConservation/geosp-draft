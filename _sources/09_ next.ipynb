{
 "cells": [
  {
   "cell_type": "markdown",
   "id": "936c8155",
   "metadata": {},
   "source": [
    "# Next?"
   ]
  }
 ],
 "metadata": {
  "jupytext": {
   "cell_metadata_filter": "-all",
   "main_language": "python",
   "notebook_metadata_filter": "-all"
  }
 },
 "nbformat": 4,
 "nbformat_minor": 5
}
