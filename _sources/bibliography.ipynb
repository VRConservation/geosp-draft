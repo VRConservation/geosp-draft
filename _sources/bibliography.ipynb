{
 "cells": [
  {
   "cell_type": "markdown",
   "id": "a87d7b36",
   "metadata": {},
   "source": [
    "# Bibliography"
   ]
  }
 ],
 "metadata": {
  "jupytext": {
   "cell_metadata_filter": "-all",
   "main_language": "python",
   "notebook_metadata_filter": "-all"
  }
 },
 "nbformat": 4,
 "nbformat_minor": 5
}
