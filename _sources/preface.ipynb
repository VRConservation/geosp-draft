{
 "cells": [
  {
   "cell_type": "markdown",
   "id": "2513f739",
   "metadata": {},
   "source": [
    "# Preface"
   ]
  }
 ],
 "metadata": {
  "jupytext": {
   "cell_metadata_filter": "-all",
   "main_language": "python",
   "notebook_metadata_filter": "-all"
  }
 },
 "nbformat": 4,
 "nbformat_minor": 5
}
