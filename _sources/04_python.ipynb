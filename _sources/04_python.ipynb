{
 "cells": [
  {
   "cell_type": "markdown",
   "id": "99972d60",
   "metadata": {},
   "source": [
    "# Geospatial Python\n",
    "\n",
    "Python is widely applicable and used in the geospatial community. ArcGIS Pro has a python package called Arcpy and QGIS has a packaged named PYQGIS. However, Arcpy is not easy or intuitive to use, even though it's a python package. I tried it, I read an entire book on it, I struggled using the notebooks, which are slow to load and not easy to link to VS Code.\n",
    "\n",
    "Then I found geemap and leafmap, incredible user friendly python packages developed by Qiushen Wu and available on github at GISWQS, along with clear tutorials at leafmap.org and geemap.org and videos at [Open Geospatial Solutions](https://www.youtube.com/@giswqs). Many analyses require only one line of code. Here, geospatial analysis using scripts just clicked for me and it opened up another world to using Python to rapidly analyse data.\n",
    "\n",
    "## Getting Started\n",
    "\n",
    "See the 5.4 Resources for more information.\n",
    "\n",
    "## Sentinel-2 Data\n",
    "\n",
    "Let's look at a simple example from a github [gist](https://gist.github.com/alexgleith/dc49156aab4b9270b0a0f145bd7fa0ce) posted by Alex Leith. Note when programmers say to uncomment a line, in python it means removing the hashtag before the command, or click on the line and hit control or command plus back slash (/). \n",
    "\n",
    "Install the dependencies:"
   ]
  },
  {
   "cell_type": "code",
   "execution_count": null,
   "id": "36c18347",
   "metadata": {
    "lines_to_next_cell": 0
   },
   "outputs": [],
   "source": [
    "# Uncomment line below to install pystac and odc\n",
    "# pip install pystac-client odc-stac odc-geo"
   ]
  },
  {
   "cell_type": "markdown",
   "id": "b49b24bd",
   "metadata": {},
   "source": [
    "Access data and create a bounding box:"
   ]
  },
  {
   "cell_type": "code",
   "execution_count": null,
   "id": "91929ad4",
   "metadata": {
    "lines_to_next_cell": 0
   },
   "outputs": [],
   "source": [
    "# Earth search is managed by Element-84 and provides access to a wide range of data sources\n",
    "client = Client.open(\"https://earth-search.aws.element84.com/v1\")\n",
    "collection = \"sentinel-2-l2a\"\n",
    "\n",
    "# Create a bounding box centered near New River Lagoon in Tasmania\n",
    "# The bounding box is lower-left x, lower-left y, upper-right x, upper-right y\n",
    "bbox = [146.5, -43.6, 146.7, -43.4]"
   ]
  },
  {
   "cell_type": "markdown",
   "id": "45f1cfc2",
   "metadata": {},
   "source": [
    "Search and load the data:"
   ]
  },
  {
   "cell_type": "code",
   "execution_count": null,
   "id": "2ee67f68",
   "metadata": {
    "lines_to_next_cell": 0
   },
   "outputs": [],
   "source": [
    "# Datetime can be a single date, like YEAR, YEAR-MONTH or YEAR-MONTH-DAY\n",
    "# or a range, like YEAR-MONTH/YEAR-MONTH\n",
    "datetime = \"2023-12\"\n",
    "\n",
    "# Run a lazy-loaded search of the STAC API\n",
    "search = client.search(collections=[collection], bbox=bbox, datetime=datetime)\n",
    "\n",
    "# Pass the search results to the load function, which will lazy-load the data\n",
    "data = load(search.items(), bbox=bbox, groupby=\"solar_day\", chunks={}, crs=\"EPSG:8857\", resolution=10)"
   ]
  },
  {
   "cell_type": "markdown",
   "id": "450fbf07",
   "metadata": {},
   "source": [
    "Visualize it:"
   ]
  },
  {
   "cell_type": "code",
   "execution_count": null,
   "id": "89329b9b",
   "metadata": {
    "lines_to_next_cell": 0
   },
   "outputs": [],
   "source": [
    "# Visualize the data\n",
    "# Time=2 is an arbitrary time slice picked because there's few clouds\n",
    "data[[\"red\", \"green\", \"blue\"]].isel(time=2).to_array().plot.imshow(vmin=0, vmax=1500)\n",
    "\n",
    "# Alternately, we could visualise using odc.geo.xr's explore function\n",
    "# data.isel(time=2).explore(bands=[\"red\", \"green\", \"blue\"], vmin=0, vmax=1500)"
   ]
  },
  {
   "cell_type": "markdown",
   "id": "dc757a28",
   "metadata": {},
   "source": [
    "Sentinel-2 true color image:\n",
    "\n",
    "![](https://i.imgur.com/ea6GCzY.png)\n",
    "\n",
    "The access and sharing of this code is another example of why free and open source is special, the community is willing to share it it is reproduceable, and easily modified to meet your needs. Thanks to Alex Leith for sharing this.\n",
    "\n",
    "## Geemap\n",
    "\n",
    "\n"
   ]
  },
  {
   "cell_type": "markdown",
   "id": "275cfa39",
   "metadata": {},
   "source": [
    "## Resources\n",
    "\n",
    "- **Geemap,**.\n",
    "- **Leafmap,**.\n",
    "- **Opengeos**.\n",
    "- **Ujaval Gandhi, Spatial Thoughts**. Free course on [Python Foundation for Spatial Analysis](https://courses.spatialthoughts.com/python-foundation.html).\n",
    "- **Dorman et al**. [Geocomputation with Python](https://py.geocompx.org/) is an open source book inspired by the FOSS4G movement. "
   ]
  }
 ],
 "metadata": {
  "jupytext": {
   "cell_metadata_filter": "-all",
   "formats": "ipynb,md",
   "main_language": "python",
   "notebook_metadata_filter": "-all"
  },
  "kernelspec": {
   "display_name": "Python 3 (ipykernel)",
   "language": "python",
   "name": "python3"
  },
  "language_info": {
   "codemirror_mode": {
    "name": "ipython",
    "version": 3
   },
   "file_extension": ".py",
   "mimetype": "text/x-python",
   "name": "python",
   "nbconvert_exporter": "python",
   "pygments_lexer": "ipython3",
   "version": "3.11.8"
  }
 },
 "nbformat": 4,
 "nbformat_minor": 5
}
