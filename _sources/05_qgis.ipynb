{
 "cells": [
  {
   "cell_type": "markdown",
   "id": "467e4e30",
   "metadata": {},
   "source": [
    "# QGIS"
   ]
  }
 ],
 "metadata": {
  "jupytext": {
   "cell_metadata_filter": "-all",
   "main_language": "python",
   "notebook_metadata_filter": "-all"
  }
 },
 "nbformat": 4,
 "nbformat_minor": 5
}
