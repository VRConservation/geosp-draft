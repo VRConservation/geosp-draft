{
 "cells": [
  {
   "cell_type": "markdown",
   "id": "e60011b4",
   "metadata": {},
   "source": [
    "# R\n",
    "\n",
    "## Code Comparison\n",
    "Javascript, Python, and R have strikingly similar code structure ({numref}`comparison`).\n",
    "\n",
    "```{figure} /figures/rgee.png\n",
    ":name: comparison\n",
    "\n",
    "Javascript, Python, R code comparison. Adapted from [rgee](http://gg.gg/19zkau).\n",
    "```\n",
    "\n",
    "In fact, it's similar enough to make each challenging to keep straight, almost like learning and remembering Spanish and Portuguese.\n",
    "\n",
    "Reminder that geemap has a javascript to python converter built into package.\n",
    "\n",
    "```{tip} R has the somewhat annoying symbol for variables or assignment operator of < + -, but you can quickly enter it using the keyboard shortcut Alt/Option + - in Windows/Mac.\n",
    "```\n",
    "\n",
    "## Resources\n",
    "\n",
    "- r-spatial/rgee. See https://github.com/r-spatial/rgee and go scroll down to table showing how javascript, python and R look similar in code.\n",
    "- https://www.neonscience.org/resources/learning-hub/tutorials/packages-r. Neon intro to R\n",
    "- https://jean-romain.github.io/lidRbook/index.html. Notebook for the LidR module.\n",
    "- https://datacarpentry.org/r-intro-geospatial/01-rstudio-intro/index.html Data carprentry R module. Data carpentry also has a intro to geospatial at https://datacarpentry.org/lessons/#geospatial-curriculum"
   ]
  }
 ],
 "metadata": {
  "jupytext": {
   "cell_metadata_filter": "-all",
   "main_language": "python",
   "notebook_metadata_filter": "-all"
  }
 },
 "nbformat": 4,
 "nbformat_minor": 5
}
