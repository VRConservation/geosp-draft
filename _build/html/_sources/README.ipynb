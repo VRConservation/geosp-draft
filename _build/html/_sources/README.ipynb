{
 "cells": [
  {
   "cell_type": "markdown",
   "id": "b4df4309",
   "metadata": {},
   "source": [
    "# geosp\n",
    "Free and Open Source Geospatial Solutions\n",
    "See the book at https://vrconservation.github.io/geosp/"
   ]
  }
 ],
 "metadata": {
  "jupytext": {
   "cell_metadata_filter": "-all",
   "main_language": "python",
   "notebook_metadata_filter": "-all"
  }
 },
 "nbformat": 4,
 "nbformat_minor": 5
}
