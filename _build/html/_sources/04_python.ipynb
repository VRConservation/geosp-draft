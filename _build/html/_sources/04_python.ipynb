{
 "cells": [
  {
   "cell_type": "markdown",
   "id": "99972d60",
   "metadata": {},
   "source": [
    "# Python for Google Earth Engine\n"
   ]
  },
  {
   "cell_type": "markdown",
   "id": "b49b24bd",
   "metadata": {},
   "source": [
    "**Find and Load Sentinel-2 Data**\n",
    "\n",
    "Code from Alex Leith's github [gist](https://gist.github.com/alexgleith/dc49156aab4b9270b0a0f145bd7fa0ce)"
   ]
  },
  {
   "cell_type": "code",
   "execution_count": null,
   "id": "62d30c41",
   "metadata": {},
   "outputs": [],
   "source": [
    "# Uncomment line below to install pystac and odc\n",
    "# pip install pystac-client odc-stac odc-geo"
   ]
  },
  {
   "cell_type": "code",
   "execution_count": null,
   "id": "d70086ec",
   "metadata": {},
   "outputs": [],
   "source": [
    "# import dependencies\n",
    "from pystac_client import Client\n",
    "from odc.stac import load\n",
    "import odc.geo.xr"
   ]
  }
 ],
 "metadata": {
  "jupytext": {
   "cell_metadata_filter": "-all",
   "formats": "ipynb,md",
   "main_language": "python",
   "notebook_metadata_filter": "-all"
  },
  "kernelspec": {
   "display_name": "Python 3 (ipykernel)",
   "language": "python",
   "name": "python3"
  },
  "language_info": {
   "codemirror_mode": {
    "name": "ipython",
    "version": 3
   },
   "file_extension": ".py",
   "mimetype": "text/x-python",
   "name": "python",
   "nbconvert_exporter": "python",
   "pygments_lexer": "ipython3",
   "version": "3.11.8"
  }
 },
 "nbformat": 4,
 "nbformat_minor": 5
}
