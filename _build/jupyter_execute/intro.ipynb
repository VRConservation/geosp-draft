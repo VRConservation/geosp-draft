{
 "cells": [
  {
   "cell_type": "markdown",
   "id": "661ede2c",
   "metadata": {},
   "source": [
    "# Intro\n",
    "\n",
    "Welcome! Free and Open Source Geospatial Solutions provides resources and examples of open source geospatial software and solutions. Please cite as \n",
    "\n",
    "Russell, Vance. 2024. Free and Open Source Geospatial Solutions. Jupyterbook.org.\n",
    "\n",
    "## Why this book\n",
    "Accessing, processing, and analyzing geospatial data can be daunting tasks, often hindered by issues such as data accessibility, compatibility, and cost constraints. There are a lot of geospatial resources, tutorials, and books out there but most focus on specific tools, such as Spatial SQL by Matt Forrest or the Google Earth Engine remote sensing book at eefa.org. This book is a resource to provide a beginners guide to getting going with each of those and compare free and open source software to paid resources and books.\n",
    "\n",
    "The \"Navigating Geospatial Data Challenges in Conservation Science\" book aims to address these challenges head-on by providing practical solutions and resources.\n",
    "\n",
    "## Audience & Learning\n",
    "The intended audience for this book is beginners to geospatial analysis with some knowledge of desktop tools such as ArcGIS Pro or QGIS and limited knowledge of coding using Javascript or Python. Ideally you will have taken an introductory geography and computer science course introducing you to software and languages.\n",
    "\n",
    "If not, you can still get by and get started in each chapter, but some background work will be required, e.g., installing Leafmap or Geemap. Nevertheless, resources and tutorials will be offered in each chapter to get you up to speed.\n",
    "\n",
    "## Acknowledgements\n",
    "I would like thank and acknowledge many of the free and open source geospatial pioneers out there offering their incredible resources and dedication to the trade. I've learned so much from you, not just geospatial analysis, but about the value of geographic information, analysis, and generosity.\n",
    "\n",
    "A great portion of this book is adapted from Quisheng Wu's extensive, innovative, and incredibly interesting resources such as Geemap and Leafmap. Dr. Wu's vast geospatial knowledge, tutorials, videos and courses are an incredible learning resource. Thank you Quisheng! I only hope this complements your work.\n",
    "\n",
    "Thanks to reviewers.\n",
    "\n",
    "Thank you to my family.\n",
    "\n",
    "```{tableofcontents}\n",
    "```"
   ]
  }
 ],
 "metadata": {
  "jupytext": {
   "cell_metadata_filter": "-all",
   "main_language": "python",
   "notebook_metadata_filter": "-all"
  },
  "language_info": {
   "codemirror_mode": {
    "name": "ipython",
    "version": 3
   },
   "file_extension": ".py",
   "mimetype": "text/x-python",
   "name": "python",
   "nbconvert_exporter": "python",
   "pygments_lexer": "ipython3",
   "version": "3.11.8"
  }
 },
 "nbformat": 4,
 "nbformat_minor": 5
}