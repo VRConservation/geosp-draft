{
 "cells": [
  {
   "cell_type": "markdown",
   "id": "3ddc74ac",
   "metadata": {},
   "source": [
    "# R & RStudio"
   ]
  },
  {
   "cell_type": "markdown",
   "id": "654c3f10",
   "metadata": {},
   "source": [
    "## Resources\n",
    "\n",
    "- r-spatial/rgee. See https://github.com/r-spatial/rgee and go scroll down to table showing how javascript, python and R look similar in code.\n",
    "- https://www.neonscience.org/resources/learning-hub/tutorials/packages-r. Neon intro to R\n",
    "- https://jean-romain.github.io/lidRbook/index.html. Notebook for the LidR module.\n",
    "- https://datacarpentry.org/r-intro-geospatial/01-rstudio-intro/index.html Data carprentry R module. Data carpentry also has a intro to geospatial at https://datacarpentry.org/lessons/#geospatial-curriculum\n"
   ]
  }
 ],
 "metadata": {
  "jupytext": {
   "cell_metadata_filter": "-all",
   "formats": "ipynb,md",
   "main_language": "python",
   "notebook_metadata_filter": "-all"
  },
  "kernelspec": {
   "display_name": "Python 3 (ipykernel)",
   "language": "python",
   "name": "python3"
  },
  "language_info": {
   "codemirror_mode": {
    "name": "ipython",
    "version": 3
   },
   "file_extension": ".py",
   "mimetype": "text/x-python",
   "name": "python",
   "nbconvert_exporter": "python",
   "pygments_lexer": "ipython3",
   "version": "3.11.8"
  }
 },
 "nbformat": 4,
 "nbformat_minor": 5
}