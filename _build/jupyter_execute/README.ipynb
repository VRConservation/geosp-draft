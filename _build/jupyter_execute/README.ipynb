{
 "cells": [
  {
   "cell_type": "markdown",
   "id": "967718b1",
   "metadata": {},
   "source": [
    "# geosp\n",
    "Free and Open Source Geospatial Solutions\n",
    "See the book at https://vrconservation.github.io/geosp/"
   ]
  }
 ],
 "metadata": {
  "jupytext": {
   "cell_metadata_filter": "-all",
   "main_language": "python",
   "notebook_metadata_filter": "-all"
  },
  "language_info": {
   "codemirror_mode": {
    "name": "ipython",
    "version": 3
   },
   "file_extension": ".py",
   "mimetype": "text/x-python",
   "name": "python",
   "nbconvert_exporter": "python",
   "pygments_lexer": "ipython3",
   "version": "3.11.8"
  }
 },
 "nbformat": 4,
 "nbformat_minor": 5
}