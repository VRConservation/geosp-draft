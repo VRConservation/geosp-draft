{
 "cells": [
  {
   "cell_type": "markdown",
   "id": "99972d60",
   "metadata": {},
   "source": [
    "# Geospatial Python\n",
    "\n",
    "Python is widely applicable and used in the geospatial community. ArcGIS Pro has a python package called Arcpy and QGIS has a packaged named PYQGIS.\n"
   ]
  },
  {
   "cell_type": "markdown",
   "id": "b49b24bd",
   "metadata": {},
   "source": [
    "## Adding these items\n",
    "geemap\n",
    "leafmap\n",
    "\n",
    "## Resources\n",
    "\n",
    "- Ujaval Gandhi, Spatial Thoughts. Free course on [Python Foundation for Spatial Analysis](https://courses.spatialthoughts.com/python-foundation.html)."
   ]
  }
 ],
 "metadata": {
  "jupytext": {
   "cell_metadata_filter": "-all",
   "formats": "ipynb,md",
   "main_language": "python",
   "notebook_metadata_filter": "-all"
  },
  "kernelspec": {
   "display_name": "Python 3 (ipykernel)",
   "language": "python",
   "name": "python3"
  },
  "language_info": {
   "codemirror_mode": {
    "name": "ipython",
    "version": 3
   },
   "file_extension": ".py",
   "mimetype": "text/x-python",
   "name": "python",
   "nbconvert_exporter": "python",
   "pygments_lexer": "ipython3",
   "version": "3.11.8"
  }
 },
 "nbformat": 4,
 "nbformat_minor": 5
}