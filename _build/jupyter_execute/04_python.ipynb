{
 "cells": [
  {
   "cell_type": "markdown",
   "id": "99972d60",
   "metadata": {},
   "source": [
    "# Geospatial Python\n",
    "\n",
    "Python is widely applicable and used in the geospatial community. ArcGIS Pro has a python package called Arcpy and QGIS has a packaged named PYQGIS. However, Arcpy is not easy or intuitive to use, even though it's a python package. I tried it, I read an entire book on it, I struggled using the notebooks, which are slow to load and not easy to link to VS Code.\n",
    "\n",
    "Then I found geemap and leafmap, incredible user friendly python packages developed by Qiushen Wu and available on github at GISWQS, along with clear tutorials at leafmap.org and geemap.org and videos at [Open Geospatial Solutions](https://www.youtube.com/@giswqs). Many analyses require only one line of code. Here, geospatial analysis using scripts just clicked for me and it opened up another world to using Python to rapidly analyse data.\n",
    "\n",
    "## Getting Started\n",
    "\n",
    "See the 5.4 Resources for more information.\n",
    "\n",
    "## Sentinel-2 Data\n",
    "\n",
    "Let's look at a simple example from a github [gist](https://gist.github.com/alexgleith/dc49156aab4b9270b0a0f145bd7fa0ce) posted by Alex Leith. Open [colab](https://colab.research.google.com/) and click the blue 'New notebook' button.\n",
    "\n",
    "```{note} 'Uncommenting' a line in python means removing the hashtag before the command, or click on the line then click control or command plus back slash (/).\n",
    "```\n",
    "\n",
    "Install the dependencies:"
   ]
  },
  {
   "cell_type": "code",
   "execution_count": 1,
   "id": "36c18347",
   "metadata": {
    "lines_to_next_cell": 0
   },
   "outputs": [],
   "source": [
    "# Uncomment line below to install pystac and odc\n",
    "# pip install pystac-client odc-stac odc-geo"
   ]
  },
  {
   "cell_type": "markdown",
   "id": "b49b24bd",
   "metadata": {},
   "source": [
    "Access data and create a bounding box:"
   ]
  },
  {
   "cell_type": "code",
   "execution_count": 2,
   "id": "91929ad4",
   "metadata": {
    "lines_to_next_cell": 0
   },
   "outputs": [
    {
     "ename": "NameError",
     "evalue": "name 'Client' is not defined",
     "output_type": "error",
     "traceback": [
      "\u001b[1;31m---------------------------------------------------------------------------\u001b[0m",
      "\u001b[1;31mNameError\u001b[0m                                 Traceback (most recent call last)",
      "Cell \u001b[1;32mIn[2], line 2\u001b[0m\n\u001b[0;32m      1\u001b[0m \u001b[38;5;66;03m# Earth search is managed by Element-84 and provides access to a wide range of data sources\u001b[39;00m\n\u001b[1;32m----> 2\u001b[0m client \u001b[38;5;241m=\u001b[39m \u001b[43mClient\u001b[49m\u001b[38;5;241m.\u001b[39mopen(\u001b[38;5;124m\"\u001b[39m\u001b[38;5;124mhttps://earth-search.aws.element84.com/v1\u001b[39m\u001b[38;5;124m\"\u001b[39m)\n\u001b[0;32m      3\u001b[0m collection \u001b[38;5;241m=\u001b[39m \u001b[38;5;124m\"\u001b[39m\u001b[38;5;124msentinel-2-l2a\u001b[39m\u001b[38;5;124m\"\u001b[39m\n\u001b[0;32m      5\u001b[0m \u001b[38;5;66;03m# Create a bounding box centered near New River Lagoon in Tasmania\u001b[39;00m\n\u001b[0;32m      6\u001b[0m \u001b[38;5;66;03m# The bounding box is lower-left x, lower-left y, upper-right x, upper-right y\u001b[39;00m\n",
      "\u001b[1;31mNameError\u001b[0m: name 'Client' is not defined"
     ]
    }
   ],
   "source": [
    "# Earth search is managed by Element-84 and provides access to a wide range of data sources\n",
    "client = Client.open(\"https://earth-search.aws.element84.com/v1\")\n",
    "collection = \"sentinel-2-l2a\"\n",
    "\n",
    "# Create a bounding box centered near New River Lagoon in Tasmania\n",
    "# The bounding box is lower-left x, lower-left y, upper-right x, upper-right y\n",
    "bbox = [146.5, -43.6, 146.7, -43.4]"
   ]
  },
  {
   "cell_type": "markdown",
   "id": "45f1cfc2",
   "metadata": {},
   "source": [
    "Search and load the data:"
   ]
  },
  {
   "cell_type": "code",
   "execution_count": null,
   "id": "2ee67f68",
   "metadata": {
    "lines_to_next_cell": 0
   },
   "outputs": [],
   "source": [
    "# Datetime can be a single date, like YEAR, YEAR-MONTH or YEAR-MONTH-DAY\n",
    "# or a range, like YEAR-MONTH/YEAR-MONTH\n",
    "datetime = \"2023-12\"\n",
    "\n",
    "# Run a lazy-loaded search of the STAC API\n",
    "search = client.search(collections=[collection], bbox=bbox, datetime=datetime)\n",
    "\n",
    "# Pass the search results to the load function, which will lazy-load the data\n",
    "data = load(search.items(), bbox=bbox, groupby=\"solar_day\", chunks={}, crs=\"EPSG:8857\", resolution=10)"
   ]
  },
  {
   "cell_type": "markdown",
   "id": "450fbf07",
   "metadata": {},
   "source": [
    "Visualize it:"
   ]
  },
  {
   "cell_type": "code",
   "execution_count": null,
   "id": "89329b9b",
   "metadata": {
    "lines_to_next_cell": 0
   },
   "outputs": [],
   "source": [
    "# Visualize the data\n",
    "# Time=2 is an arbitrary time slice picked because there's few clouds\n",
    "data[[\"red\", \"green\", \"blue\"]].isel(time=2).to_array().plot.imshow(vmin=0, vmax=1500)\n",
    "\n",
    "# Alternately, we could visualise using odc.geo.xr's explore function\n",
    "# data.isel(time=2).explore(bands=[\"red\", \"green\", \"blue\"], vmin=0, vmax=1500)"
   ]
  },
  {
   "cell_type": "markdown",
   "id": "dc757a28",
   "metadata": {},
   "source": [
    "Sentinel-2 true color image:\n",
    "\n",
    "![](https://i.imgur.com/ea6GCzY.png)\n",
    "\n",
    "The access and sharing of this code is another example of why free and open source is special, the community is willing to share it it is reproduceable, and easily modified to meet your needs. Thanks to Alex Leith for sharing this.\n",
    "\n",
    "## Geemap\n",
    "Compared to using Javascript, Geemap is a much easier way to access, analyze, and visualize Earth Engine data all within a python package environment developed by [Quisheng Wu](https://github.com/giswqs).\n",
    "\n",
    "```{admonition} Getting Started\n",
    "Watch this [installation video](https://www.youtube.com/watch?v=gyQ6wBqYGks&list=PLAxJ4-o7ZoPeXzIjOJx3vBF0ftKlcYH9J&index=3) followed by this [vs code and github](https://www.youtube.com/watch?v=gyQ6wBqYGks&list=PLAxJ4-o7ZoPeXzIjOJx3vBF0ftKlcYH9J&index=3) video. If you already have an IDE, miniconda, and virtual env's installed, go to the Geemap [installation](https://geemap.org/installation/) page.\n",
    "```\n",
    "\n",
    "Let's look at how to visualize the same map from Chapter 2 using Geemap. Open a jupyter notebook and add the following codeblock:"
   ]
  },
  {
   "cell_type": "code",
   "execution_count": null,
   "id": "bc42980b",
   "metadata": {
    "lines_to_next_cell": 0
   },
   "outputs": [],
   "source": [
    "# Import geemap and create an interactive map\n",
    "import ee\n",
    "import geemap\n",
    "geemap.ee_initialize()\n",
    "m = geemap.Map()\n",
    "m"
   ]
  },
  {
   "cell_type": "markdown",
   "id": "0e370e02",
   "metadata": {},
   "source": [
    "That will will give you a generic world map and several map widgets:\n",
    "\n",
    "![](https://i.imgur.com/hKl0roO.png)\n",
    "\n",
    "In the upper right corner of the map, click the wrench icon then click the two encircling arrows box (bottom row, middle) to open the Javascript to Python code converter:\n",
    "\n",
    "![](https://i.imgur.com/XXdWssh.png)\n",
    "\n",
    "Go to your Earth Engine File, open the code from Chapter 2 and select all and paste it into the converter. Click on convert. The code is copied to the clipboard. Paste it into a new codeblock and comment out the definition function on lines 4-6:"
   ]
  },
  {
   "cell_type": "code",
   "execution_count": null,
   "id": "1b9e797b",
   "metadata": {
    "lines_to_next_cell": 0
   },
   "outputs": [],
   "source": [
    "# Add global carbon density map\n",
    "dataset = ee.ImageCollection('NASA/ORNL/biomass_carbon_density/v1')\n",
    "\n",
    "# def func_rif(image)return image.clip(bbox)};: \\\n",
    "#                     .map(function(image){return image.clip(bbox)} \\\n",
    "#                     .map(func_rif)\n",
    "\n",
    "# Add visual parameter variables\n",
    "vis_a = {\n",
    "  'bands': ['agb'],\n",
    "  'min': -50.0,\n",
    "  'max': 80.0,\n",
    "  'palette': ['d9f0a3', 'addd8e', '78c679', '41ab5d', '238443', '005a32']\n",
    "}\n",
    "\n",
    "vis_b = {\n",
    "  'bands': ['bgb'],\n",
    "  'min': -50.0,\n",
    "  'max': 80.0,\n",
    "  'palette': ['D6BCB1', 'AB8574', '784E3D', '3D2216', '26140C', '000000']\n",
    "}\n",
    "\n",
    "# Center map and add layers\n",
    "m.setCenter(-120.2348, 38.8744, 9)\n",
    "m.addLayer(dataset, vis_a, 'Aboveground biomass carbon')\n",
    "m.addLayer(dataset, vis_b, 'Belowground biomass carbon')"
   ]
  },
  {
   "cell_type": "markdown",
   "id": "92066708",
   "metadata": {},
   "source": [
    "Running that code block will give you the following:\n",
    "\n",
    "![](https://i.imgur.com/uAQ9wBz.jpeg)\n",
    "\n",
    "If you return to the wrench icon and select layers to the left you can switch layers on and off\n",
    "\n",
    "![](https://i.imgur.com/RzJfVjV.png)\n"
   ]
  },
  {
   "cell_type": "markdown",
   "id": "275cfa39",
   "metadata": {},
   "source": [
    "## Resources\n",
    "\n",
    "- [Geemap](https://geemap.org/) has a webpage, book, tutorials, API, and much more to support this excellent Python package.\n",
    "- [Leafmap](https://leafmap.org/) is a Python package for geospatial analysis in a Jupyter environment. Superb documentation, tutorials, and ease of use.\n",
    "- [Open Geospatial Solutions](https://github.com/opengeos) host many open-source geospatial software projects and datasets.\n",
    "- [Spatial Thoughts](https:spatialthoughts.com) run by Ujaval Gandhi has a free course called [Python Foundation for Spatial Analysis](https://courses.spatialthoughts.com/python-foundation.html). The site has many other free and paid courses and tutorials for geospatial analysis.\n",
    "- [Geocomputation with Python](https://py.geocompx.org/) is an open source book inspired by the FOSS4G movement. "
   ]
  }
 ],
 "metadata": {
  "jupytext": {
   "cell_metadata_filter": "-all",
   "formats": "ipynb,md",
   "main_language": "python",
   "notebook_metadata_filter": "-all"
  },
  "kernelspec": {
   "display_name": "Python 3 (ipykernel)",
   "language": "python",
   "name": "python3"
  },
  "language_info": {
   "codemirror_mode": {
    "name": "ipython",
    "version": 3
   },
   "file_extension": ".py",
   "mimetype": "text/x-python",
   "name": "python",
   "nbconvert_exporter": "python",
   "pygments_lexer": "ipython3",
   "version": "3.11.8"
  }
 },
 "nbformat": 4,
 "nbformat_minor": 5
}