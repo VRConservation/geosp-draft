{
 "cells": [
  {
   "cell_type": "markdown",
   "id": "99972d60",
   "metadata": {},
   "source": [
    "# Python for Google Earth Engine\n"
   ]
  },
  {
   "cell_type": "markdown",
   "id": "51dfa7d0",
   "metadata": {},
   "source": [
    "geemap\n",
    "leafmap\n",
    "Alex Leith find and load sentinel 2 data on github gist: https://gist.github.com/alexgleith/dc49156aab4b9270b0a0f145bd7fa0ce"
   ]
  }
 ],
 "metadata": {
  "jupytext": {
   "cell_metadata_filter": "-all",
   "main_language": "python",
   "notebook_metadata_filter": "-all"
  },
  "language_info": {
   "codemirror_mode": {
    "name": "ipython",
    "version": 3
   },
   "file_extension": ".py",
   "mimetype": "text/x-python",
   "name": "python",
   "nbconvert_exporter": "python",
   "pygments_lexer": "ipython3",
   "version": "3.11.8"
  }
 },
 "nbformat": 4,
 "nbformat_minor": 5
}