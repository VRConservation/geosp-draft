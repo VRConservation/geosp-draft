{
 "cells": [
  {
   "cell_type": "markdown",
   "id": "e4f26a75",
   "metadata": {},
   "source": [
    "# QGIS\n",
    "\n",
    "## Takeaways\n",
    "\n",
    "## Tutorial\n",
    "\n",
    "## Resources"
   ]
  }
 ],
 "metadata": {
  "jupytext": {
   "cell_metadata_filter": "-all",
   "main_language": "python",
   "notebook_metadata_filter": "-all"
  },
  "language_info": {
   "codemirror_mode": {
    "name": "ipython",
    "version": 3
   },
   "file_extension": ".py",
   "mimetype": "text/x-python",
   "name": "python",
   "nbconvert_exporter": "python",
   "pygments_lexer": "ipython3",
   "version": "3.11.8"
  }
 },
 "nbformat": 4,
 "nbformat_minor": 5
}