{
 "cells": [
  {
   "cell_type": "markdown",
   "id": "dad678b4",
   "metadata": {},
   "source": [
    "# FOSS\n",
    "\n",
    "Free and Open Source Geospatial Tools and Resources\n",
    "\n",
    "Free and open-source geospatial tools are essential for data democratization, equitable planning, and preserving natural resources because they provide accessible and transparent ways to analyze and visualize spatial data. These tools enable individuals and communities, regardless of their financial resources, to access, analyze, and share geospatial information. By harnessing these tools, users can make informed decisions about land use planning, resource management, and environmental conservation. Additionally, the open nature of these tools fosters collaboration and innovation among diverse stakeholders, leading to more inclusive and sustainable solutions for our communities and the environment. Ultimately, free and open-source geospatial tools play a crucial role in promoting transparency, equity, and sustainability in decision-making processes related to our natural resources and the built environment.\n",
    "\n",
    "## Participatory Rural Appraisal\n",
    "I literally did stone-age mapping for a portion of my graduate school research working with indigenous villages in a community run reserve called Chimalapas in Oaxaca, Mexico. \n",
    "\n",
    "## Modern GIS\n",
    "\n",
    ">'Modern GIS is the process, systems, and technology used to derive insights from geospatial data. Modern GIS\n",
    "uses open, interoperable, and standards based technology. It can be run locally or in the cloud and can scale to\n",
    "work with different types, velocities, and scales of data.' {cite:p}`forrest2023`.\n",
    "\n",
    "## Data Democratization"
   ]
  },
  {
   "cell_type": "markdown",
   "id": "5410449f",
   "metadata": {},
   "source": [
    "## Equity Maps"
   ]
  }
 ],
 "metadata": {
  "jupytext": {
   "cell_metadata_filter": "-all",
   "formats": "ipynb,md"
  },
  "kernelspec": {
   "display_name": "Python 3 (ipykernel)",
   "language": "python",
   "name": "python3"
  },
  "language_info": {
   "codemirror_mode": {
    "name": "ipython",
    "version": 3
   },
   "file_extension": ".py",
   "mimetype": "text/x-python",
   "name": "python",
   "nbconvert_exporter": "python",
   "pygments_lexer": "ipython3",
   "version": "3.11.8"
  }
 },
 "nbformat": 4,
 "nbformat_minor": 5
}