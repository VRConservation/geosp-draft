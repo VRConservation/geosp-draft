{
 "cells": [
  {
   "cell_type": "markdown",
   "id": "dad678b4",
   "metadata": {},
   "source": [
    "# FOSS\n",
    "\n",
    "Free and Open Source Geospatial Tools and Resources\n",
    "\n",
    "## Origins"
   ]
  },
  {
   "cell_type": "markdown",
   "id": "5410449f",
   "metadata": {},
   "source": [
    "## Modern GIS\n",
    "\n",
    "## Data Democratization\n",
    "\n",
    "## Particippatory Rural Appraisal\n",
    "\n",
    "## Equity Maps"
   ]
  }
 ],
 "metadata": {
  "jupytext": {
   "cell_metadata_filter": "-all",
   "formats": "ipynb,md"
  },
  "kernelspec": {
   "display_name": "Python 3 (ipykernel)",
   "language": "python",
   "name": "python3"
  },
  "language_info": {
   "codemirror_mode": {
    "name": "ipython",
    "version": 3
   },
   "file_extension": ".py",
   "mimetype": "text/x-python",
   "name": "python",
   "nbconvert_exporter": "python",
   "pygments_lexer": "ipython3",
   "version": "3.11.8"
  }
 },
 "nbformat": 4,
 "nbformat_minor": 5
}