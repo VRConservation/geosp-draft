{
 "cells": [
  {
   "cell_type": "markdown",
   "id": "1126adfb",
   "metadata": {},
   "source": [
    "# AI & ML\n",
    "\n",
    "## Machine Learning\n",
    "\n",
    "ML example could be from Spatial Thoughts or Whitebark pine\n",
    "\n",
    "Write entire chapter using ai even the text from Copilot, Gemini, and ChatGPT. For each ask them to write code for the same example from chp1, then review"
   ]
  },
  {
   "cell_type": "markdown",
   "id": "80eef263",
   "metadata": {},
   "source": [
    "## Resources\n",
    "- [Clay Foundation Model](https://clay-foundation.github.io/model/index.html). Only works on linux devices with CUDA GPUs? "
   ]
  }
 ],
 "metadata": {
  "jupytext": {
   "cell_metadata_filter": "-all",
   "main_language": "python",
   "notebook_metadata_filter": "-all"
  },
  "language_info": {
   "codemirror_mode": {
    "name": "ipython",
    "version": 3
   },
   "file_extension": ".py",
   "mimetype": "text/x-python",
   "name": "python",
   "nbconvert_exporter": "python",
   "pygments_lexer": "ipython3",
   "version": "3.11.8"
  }
 },
 "nbformat": 4,
 "nbformat_minor": 5
}