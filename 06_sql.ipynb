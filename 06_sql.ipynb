{
 "cells": [
  {
   "cell_type": "markdown",
   "id": "03590828",
   "metadata": {},
   "source": [
    "# SQL"
   ]
  }
 ],
 "metadata": {
  "jupytext": {
   "cell_metadata_filter": "-all",
   "main_language": "python",
   "notebook_metadata_filter": "-all"
  }
 },
 "nbformat": 4,
 "nbformat_minor": 5
}
